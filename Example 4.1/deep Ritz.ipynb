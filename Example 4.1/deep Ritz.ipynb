{
 "cells": [
  {
   "cell_type": "code",
   "execution_count": 31,
   "id": "2f89ad74",
   "metadata": {},
   "outputs": [
    {
     "name": "stdout",
     "output_type": "stream",
     "text": [
      "cpu\n"
     ]
    }
   ],
   "source": [
    "import numpy as np\n",
    "import torch\n",
    "import torch.autograd as autograd         # computation graph\n",
    "from torch import Tensor                  # tensor node in the computation graph\n",
    "import torch.nn as nn                     # neural networks\n",
    "import torch.optim as optim               # optimizers e.g. gradient descent, ADAM, etc.\n",
    "import time\n",
    "from pyDOE import lhs\n",
    "import matplotlib.pyplot as plt\n",
    "import matplotlib.ticker\n",
    "import math\n",
    "import os\n",
    "os.environ['KMP_DUPLICATE_LIB_OK']='True'\n",
    "\n",
    "#Set default dtype to float32\n",
    "torch.set_default_dtype(torch.float)\n",
    "\n",
    "#PyTorch random number generator\n",
    "torch.manual_seed(1234)\n",
    "\n",
    "# Random number generators in other libraries\n",
    "np.random.seed(1234)\n",
    "\n",
    "# Device configuration\n",
    "device = torch.device('cuda' if torch.cuda.is_available() else 'cpu')\n",
    "\n",
    "print(device)\n",
    "\n",
    "if device == 'cuda': print(torch.cuda.get_device_name()) "
   ]
  },
  {
   "cell_type": "markdown",
   "id": "4c84154d",
   "metadata": {},
   "source": [
    "# Data Prep\n",
    "\n",
    "Training and Testing data is prepared from the solution file"
   ]
  },
  {
   "cell_type": "code",
   "execution_count": 32,
   "id": "94c9ce7b",
   "metadata": {},
   "outputs": [],
   "source": [
    "x_1 = np.linspace(-1,1,256)\n",
    "x_2 = np.linspace(1,-1,256)\n",
    "\n",
    "X, Y = np.meshgrid(x_1,x_2) "
   ]
  },
  {
   "cell_type": "markdown",
   "id": "584d4f6e",
   "metadata": {},
   "source": [
    "# Test Data\n",
    "\n",
    "We prepare the test data to compare against the solution produced by DRM."
   ]
  },
  {
   "cell_type": "code",
   "execution_count": 33,
   "id": "99560bf3",
   "metadata": {},
   "outputs": [],
   "source": [
    "X_v_test = np.hstack((X.flatten(order='F')[:,None], Y.flatten(order='F')[:,None]))\n",
    "\n",
    "lb = np.array([-1, -1]) #lower bound\n",
    "ub = np.array([1, 1])  #upper bound\n",
    "\n",
    "vsol = -1/(2 * np.pi) * np.log(X**2 + Y**2) + math.e**(X*Y)*np.cos(X)\n",
    "\n",
    "v_true = vsol.flatten('F')[:,None] "
   ]
  },
  {
   "cell_type": "markdown",
   "id": "6d05d479",
   "metadata": {},
   "source": [
    "# Training Data"
   ]
  },
  {
   "cell_type": "code",
   "execution_count": 34,
   "id": "a7a92c14",
   "metadata": {},
   "outputs": [],
   "source": [
    "def trainingdata(N_v,N_f):\n",
    "    \n",
    "    leftedge_x = np.hstack((X[:,0][:,None], Y[:,0][:,None]))\n",
    "    leftedge_v = vsol[:,0][:,None]\n",
    "    \n",
    "    rightedge_x = np.hstack((X[:,-1][:,None], Y[:,-1][:,None]))\n",
    "    rightedge_v = vsol[:,-1][:,None]\n",
    "    \n",
    "    topedge_x = np.hstack((X[0,:][:,None], Y[0,:][:,None]))\n",
    "    topedge_v = vsol[0,:][:,None]\n",
    "    \n",
    "    bottomedge_x = np.hstack((X[-1,:][:,None], Y[-1,:][:,None]))\n",
    "    bottomedge_v = vsol[-1,:][:,None]\n",
    "    \n",
    "    all_X_v_train = np.vstack([leftedge_x, rightedge_x, bottomedge_x, topedge_x])\n",
    "    all_v_train = np.vstack([leftedge_v, rightedge_v, bottomedge_v, topedge_v])  \n",
    "     \n",
    "    #choose random N_v points for training\n",
    "    idx = np.random.choice(all_X_v_train.shape[0], N_v, replace=False) \n",
    "    \n",
    "    X_v_train = all_X_v_train[idx[0:N_v], :] #choose indices from  set 'idx' (x,t)\n",
    "    v_train = all_v_train[idx[0:N_v],:]      #choose corresponding v\n",
    "    \n",
    "    '''Collocation Points'''\n",
    "    # N_f sets of tuples(x,t)\n",
    "    X_f = lb + (ub-lb)*lhs(2,N_f)\n",
    "    X_f_train = np.vstack((X_f, X_v_train)) # append training points to collocation points \n",
    "    \n",
    "    return X_f_train, X_v_train, v_train "
   ]
  },
  {
   "cell_type": "markdown",
   "id": "4edf6b7f",
   "metadata": {},
   "source": [
    "# DRM\n",
    "\n",
    "Creating sequential layers using the class\n",
    "tf.Module"
   ]
  },
  {
   "cell_type": "code",
   "execution_count": 35,
   "id": "4f82fa48",
   "metadata": {},
   "outputs": [],
   "source": [
    "class Sequentialmodel(nn.Module):\n",
    "    \n",
    "    def __init__(self,layers):\n",
    "        super().__init__() #call __init__ from parent class \n",
    "              \n",
    "        'activation function'\n",
    "        self.activation = nn.Tanh()\n",
    "\n",
    "        'loss function'\n",
    "        self.loss_function = nn.MSELoss(reduction ='mean')\n",
    "    \n",
    "        'Initialise neural network as a nn.MSELosslist using nn.Modulelist'  \n",
    "        self.linears = nn.ModuleList([nn.Linear(layers[i], layers[i+1]) for i in range(len(layers)-1)])\n",
    "        \n",
    "        'Xavier Normal Initialization'\n",
    "        # std = gain * sqrt(2/(input_dim+output_dim))\n",
    "        for i in range(len(layers)-1):\n",
    "            \n",
    "            # weights from a normal distribution with \n",
    "            # Recommended gain value for tanh = 5/3?\n",
    "            nn.init.xavier_normal_(self.linears[i].weight.data, gain=1.0)\n",
    "            \n",
    "            # set biases to zero\n",
    "            nn.init.zeros_(self.linears[i].bias.data)\n",
    "            \n",
    "\n",
    "    def forward(self,x):\n",
    "        \n",
    "        if torch.is_tensor(x) != True:         \n",
    "            x = torch.from_numpy(x)                \n",
    "        \n",
    "        u_b = torch.from_numpy(ub).float().to(device)\n",
    "        l_b = torch.from_numpy(lb).float().to(device)\n",
    "                      \n",
    "        #preprocessing input \n",
    "        x = (x - l_b)/(u_b - l_b) #feature scaling\n",
    "        \n",
    "        #convert to float\n",
    "        a = x.float()\n",
    "        \n",
    "        for i in range(len(layers)-2):\n",
    "            \n",
    "            z = self.linears[i](a)\n",
    "                        \n",
    "            a = self.activation(z)\n",
    "            \n",
    "        a = self.linears[-1](a)\n",
    "        \n",
    "        return a\n",
    "                        \n",
    "    def loss_BC(self,x,y):\n",
    "                \n",
    "        loss_v = self.loss_function(self.forward(x), y)\n",
    "                \n",
    "        return loss_v\n",
    "    \n",
    "    def loss_PDE(self, x_to_train_f):\n",
    "                \n",
    "        x_1_f = x_to_train_f[:,[0]]\n",
    "        x_2_f = x_to_train_f[:,[1]]\n",
    "                        \n",
    "        g = x_to_train_f.clone()\n",
    "                        \n",
    "        g.requires_grad = True\n",
    "        \n",
    "        v = self.forward(g)\n",
    "                \n",
    "        v_x = autograd.grad(v,g,torch.ones([x_to_train_f.shape[0], 1]).to(device), retain_graph=True, create_graph=True)[0]\n",
    "                                                            \n",
    "        v_x_1 = v_x[:,[0]]\n",
    "        \n",
    "        v_x_2 = v_x[:,[1]]\n",
    "                        \n",
    "        k = x_1_f**2 + x_2_f**2 + 1\n",
    "        gg = (x_1_f**2+x_2_f**2+1)*((1-x_1_f**2-x_2_f**2)*math.e**(x_1_f*x_2_f)*np.cos(x_1_f)+2*x_2_f*math.e**(x_1_f*x_2_f)*np.sin(x_1_f))-4*x_1_f*x_2_f*math.e**(x_1_f*x_2_f)*np.cos(x_1_f)+2*x_1_f*math.e**(x_1_f*x_2_f)*np.sin(x_1_f)+2/np.pi\n",
    "        \n",
    "        f = 1/2 * k * (v_x_1**2 + v_x_2**2) - 2*1e6 - gg * v\n",
    "\n",
    "        loss_f = torch.mean(f)\n",
    "                \n",
    "        return loss_f\n",
    "    \n",
    "    def loss(self,x,y,x_to_train_f,sigma):\n",
    "\n",
    "        loss_v = self.loss_BC(x,y)\n",
    "        loss_f = self.loss_PDE(x_to_train_f)\n",
    "\n",
    "        loss = sigma/2 * loss_v + loss_f\n",
    "\n",
    "        return loss\n",
    "     \n",
    "    'callable for optimizer'                                       \n",
    "    def closure(self):\n",
    "        \n",
    "        optimizer.zero_grad()\n",
    "        \n",
    "        loss_val = self.loss(X_v_train, v_train, X_f_train, sigma)\n",
    "        \n",
    "        error_vec, _ = DRM.test()\n",
    "        \n",
    "        #print(loss_val,error_vec)\n",
    "        \n",
    "        loss_val.backward()\n",
    "\n",
    "        return loss_val        \n",
    "    \n",
    "    def test(self):\n",
    "                \n",
    "        v_pred = self.forward(X_v_test_tensor)\n",
    "        \n",
    "        error_vec = torch.linalg.norm((v-v_pred),2)/torch.linalg.norm(v,2)        # Relative L2 Norm of the error (Vector)\n",
    "        \n",
    "        v_pred = np.reshape(v_pred.cpu().detach().numpy(),(256,256),order='F') \n",
    "        \n",
    "        return error_vec, v_pred"
   ]
  },
  {
   "cell_type": "markdown",
   "id": "9ea9853d",
   "metadata": {},
   "source": [
    "# Loss Function\n",
    "\n",
    "The loss function consists of two parts:\n",
    "\n",
    "    loss_BC: MSE error of boundary losses\n",
    "    loss_PDE: variational functional for the PDE\n",
    "\n",
    "loss = loss_BC + loss_PDE\n"
   ]
  },
  {
   "cell_type": "code",
   "execution_count": 36,
   "id": "d71f69f3",
   "metadata": {
    "scrolled": true
   },
   "outputs": [
    {
     "name": "stdout",
     "output_type": "stream",
     "text": [
      "Sequentialmodel(\n",
      "  (activation): Tanh()\n",
      "  (loss_function): MSELoss()\n",
      "  (linears): ModuleList(\n",
      "    (0): Linear(in_features=2, out_features=20, bias=True)\n",
      "    (1): Linear(in_features=20, out_features=20, bias=True)\n",
      "    (2): Linear(in_features=20, out_features=20, bias=True)\n",
      "    (3): Linear(in_features=20, out_features=1, bias=True)\n",
      "  )\n",
      ")\n",
      "Training time: 2.36\n",
      "sigma: 1153.300000\n",
      "Test Error: 0.10234\n"
     ]
    },
    {
     "name": "stderr",
     "output_type": "stream",
     "text": [
      "C:\\Users\\HP\\AppData\\Local\\Temp/ipykernel_8808/1520156782.py:58: MatplotlibDeprecationWarning: shading='flat' when X and Y have the same dimensions as C is deprecated since 3.3.  Either specify the corners of the quadrilaterals with X and Y, or pass shading='auto', 'nearest' or 'gouraud', or set rcParams['pcolor.shading'].  This will become an error two minor releases later.\n",
      "  plt.pcolor(x_1, x_2, v_pred, cmap='jet')\n",
      "C:\\Users\\HP\\AppData\\Local\\Temp/ipykernel_8808/1520156782.py:67: MatplotlibDeprecationWarning: shading='flat' when X and Y have the same dimensions as C is deprecated since 3.3.  Either specify the corners of the quadrilaterals with X and Y, or pass shading='auto', 'nearest' or 'gouraud', or set rcParams['pcolor.shading'].  This will become an error two minor releases later.\n",
      "  plt.pcolor(x_1, x_2, np.abs(vsol - v_pred), cmap='jet')\n"
     ]
    },
    {
     "data": {
      "image/png": "[encoded data removed]",
      "text/plain": [
       "<Figure size 432x360 with 2 Axes>"
      ]
     },
     "metadata": {
      "needs_background": "light"
     },
     "output_type": "display_data"
    },
    {
     "data": {
      "image/png": "[encoded data removed]",
      "text/plain": [
       "<Figure size 432x360 with 2 Axes>"
      ]
     },
     "metadata": {
      "needs_background": "light"
     },
     "output_type": "display_data"
    }
   ],
   "source": [
    "N_v = 400 \n",
    "N_f = 10000 \n",
    "\n",
    "X_f_train_np_array, X_v_train_np_array, v_train_np_array = trainingdata(N_v,N_f)\n",
    "\n",
    "'Convert to tensor and send to GPU'\n",
    "X_f_train = torch.from_numpy(X_f_train_np_array).float().to(device)\n",
    "X_v_train = torch.from_numpy(X_v_train_np_array).float().to(device)\n",
    "v_train = torch.from_numpy(v_train_np_array).float().to(device)\n",
    "X_v_test_tensor = torch.from_numpy(X_v_test).float().to(device)\n",
    "v = torch.from_numpy(v_true).float().to(device)\n",
    "\n",
    "sigma_vec = []\n",
    "error_vec = []\n",
    "time_vec = []\n",
    "\n",
    "layers = np.array([2, 20, 20, 20, 1])\n",
    "\n",
    "DRM = Sequentialmodel(layers)\n",
    "       \n",
    "DRM.to(device)\n",
    "\n",
    "'Neural Network Summary'\n",
    "\n",
    "print(DRM)\n",
    "params = list(DRM.parameters())\n",
    "\n",
    "rou = 1.5\n",
    "sigma = 1153.3\n",
    "sigma_vec.append(sigma)\n",
    "start_time = time.time()\n",
    "    \n",
    "optimizer = torch.optim.LBFGS(DRM.parameters(), lr=0.1, \n",
    "                              max_iter = 1000, \n",
    "                              max_eval = 2500, \n",
    "                              tolerance_grad = 1e-06, \n",
    "                              tolerance_change = 1e-09, \n",
    "                              history_size = 100, \n",
    "                              line_search_fn = 'strong_wolfe')\n",
    "\n",
    "\n",
    "optimizer.zero_grad()     # zeroes the gradient buffers of all parameters\n",
    "optimizer.step(DRM.closure)\n",
    "\n",
    "elapsed = time.time() - start_time                \n",
    "print('Training time: %.2f' % (elapsed))\n",
    "\n",
    "\n",
    "''' Model Accuracy ''' \n",
    "error_vec, v_pred = DRM.test()\n",
    "\n",
    "print('sigma: %f' %(sigma))\n",
    "print('Test Error: %.5f'  % (error_vec))\n",
    "\n",
    "# Plotting\n",
    "# Prediction\n",
    "fig_1 = plt.figure(1, figsize=(6, 5))\n",
    "plt.pcolor(x_1, x_2, v_pred, cmap='jet')\n",
    "h=plt.colorbar()\n",
    "h.ax.tick_params(labelsize=20)\n",
    "plt.xticks([])\n",
    "plt.yticks([])\n",
    "plt.savefig('deepRs-pred',bbox_inches='tight')\n",
    "\n",
    "# Error\n",
    "fig_2 = plt.figure(2, figsize=(6, 5))\n",
    "plt.pcolor(x_1, x_2, np.abs(vsol - v_pred), cmap='jet')\n",
    "h=plt.colorbar()\n",
    "h.ax.tick_params(labelsize=20)\n",
    "plt.xticks([])\n",
    "plt.yticks([])\n",
    "plt.savefig('deepRs-error',bbox_inches='tight')\n",
    "plt.show()"
   ]
  },
  {
   "cell_type": "code",
   "execution_count": null,
   "id": "effcd528",
   "metadata": {},
   "outputs": [],
   "source": []
  }
 ],
 "metadata": {
  "kernelspec": {
   "display_name": "Python 3 (ipykernel)",
   "language": "python",
   "name": "python3"
  },
  "language_info": {
   "codemirror_mode": {
    "name": "ipython",
    "version": 3
   },
   "file_extension": ".py",
   "mimetype": "text/x-python",
   "name": "python",
   "nbconvert_exporter": "python",
   "pygments_lexer": "ipython3",
   "version": "3.9.7"
  }
 },
 "nbformat": 4,
 "nbformat_minor": 5
}
